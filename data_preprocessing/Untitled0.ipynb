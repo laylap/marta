{
 "metadata": {
  "name": "",
  "signature": "sha256:a37d9bb841e7d1b4a85870bb1dd254ef4ae3f68d00c22af2702eae37c0e4b307"
 },
 "nbformat": 3,
 "nbformat_minor": 0,
 "worksheets": [
  {
   "cells": [
    {
     "cell_type": "code",
     "collapsed": false,
     "input": [
      "import pandas as pd\n",
      "import psycopg2\n",
      "con = psycopg2.connect(host=\"istanbul.mathcs.emory.edu\",database='adherencedb',user='dgarci8',password='8uSPred')"
     ],
     "language": "python",
     "metadata": {},
     "outputs": [],
     "prompt_number": 1
    },
    {
     "cell_type": "code",
     "collapsed": false,
     "input": [
      "dates = pd.read_sql(\"select distinct msgdate from gps_april_may_updated\",con)\n",
      "dates.head()"
     ],
     "language": "python",
     "metadata": {},
     "outputs": [
      {
       "html": [
        "<div style=\"max-height:1000px;max-width:1500px;overflow:auto;\">\n",
        "<table border=\"1\" class=\"dataframe\">\n",
        "  <thead>\n",
        "    <tr style=\"text-align: right;\">\n",
        "      <th></th>\n",
        "      <th>msgdate</th>\n",
        "    </tr>\n",
        "  </thead>\n",
        "  <tbody>\n",
        "    <tr>\n",
        "      <th>0</th>\n",
        "      <td> 2014-05-26</td>\n",
        "    </tr>\n",
        "    <tr>\n",
        "      <th>1</th>\n",
        "      <td> 2014-05-19</td>\n",
        "    </tr>\n",
        "    <tr>\n",
        "      <th>2</th>\n",
        "      <td> 2014-06-03</td>\n",
        "    </tr>\n",
        "    <tr>\n",
        "      <th>3</th>\n",
        "      <td> 2014-06-13</td>\n",
        "    </tr>\n",
        "    <tr>\n",
        "      <th>4</th>\n",
        "      <td> 2014-05-04</td>\n",
        "    </tr>\n",
        "  </tbody>\n",
        "</table>\n",
        "</div>"
       ],
       "metadata": {},
       "output_type": "pyout",
       "prompt_number": 2,
       "text": [
        "      msgdate\n",
        "0  2014-05-26\n",
        "1  2014-05-19\n",
        "2  2014-06-03\n",
        "3  2014-06-13\n",
        "4  2014-05-04"
       ]
      }
     ],
     "prompt_number": 2
    },
    {
     "cell_type": "code",
     "collapsed": false,
     "input": [
      "for day in [dates['msgdate'].ix[0]]:\n",
      "    print(day)\n",
      "    data = pd.read_sql(\"select trip_id,stop_sequence,adherence from gps_april_may_updated where msgdate = \\'\" + str(day) + \"\\'\",con)\n",
      "    data.sort(['trip_id','stop_sequence'],inplace=True)\n",
      "    print(data.head())"
     ],
     "language": "python",
     "metadata": {},
     "outputs": [
      {
       "output_type": "stream",
       "stream": "stdout",
       "text": [
        "2014-05-26\n",
        "        trip_id stop_sequence  adherence\n",
        "129897  4022355            13         -1\n",
        "130435  4022355            13         -1\n",
        "130770  4022355            13         -1\n",
        "130167  4022355            16         -2\n",
        "130520  4022355            16         -2"
       ]
      },
      {
       "output_type": "stream",
       "stream": "stdout",
       "text": [
        "\n"
       ]
      }
     ],
     "prompt_number": 11
    },
    {
     "cell_type": "code",
     "collapsed": false,
     "input": [],
     "language": "python",
     "metadata": {},
     "outputs": []
    }
   ],
   "metadata": {}
  }
 ]
}